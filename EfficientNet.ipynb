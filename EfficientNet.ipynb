{
  "nbformat": 4,
  "nbformat_minor": 0,
  "metadata": {
    "colab": {
      "name": "EfficientNet.ipynb",
      "provenance": [],
      "collapsed_sections": [],
      "authorship_tag": "ABX9TyNdnqZp/5Ipf+9WXZp998hi",
      "include_colab_link": true
    },
    "kernelspec": {
      "name": "python3",
      "display_name": "Python 3"
    },
    "language_info": {
      "name": "python"
    },
    "accelerator": "GPU"
  },
  "cells": [
    {
      "cell_type": "markdown",
      "metadata": {
        "id": "view-in-github",
        "colab_type": "text"
      },
      "source": [
        "<a href=\"https://colab.research.google.com/github/arvcode/DeepLearningExamples/blob/master/EfficientNet.ipynb\" target=\"_parent\"><img src=\"https://colab.research.google.com/assets/colab-badge.svg\" alt=\"Open In Colab\"/></a>"
      ]
    },
    {
      "cell_type": "code",
      "metadata": {
        "id": "4BJY366_rfSF"
      },
      "source": [
        "\n",
        "\n"
      ],
      "execution_count": null,
      "outputs": []
    },
    {
      "cell_type": "code",
      "metadata": {
        "colab": {
          "base_uri": "https://localhost:8080/"
        },
        "id": "KvnMvWGnrvKh",
        "outputId": "00976dea-2506-4a48-c689-764effce6f35"
      },
      "source": [
        "!nvidia-smi"
      ],
      "execution_count": 1,
      "outputs": [
        {
          "output_type": "stream",
          "text": [
            "Sat Apr  3 08:28:44 2021       \n",
            "+-----------------------------------------------------------------------------+\n",
            "| NVIDIA-SMI 460.67       Driver Version: 460.32.03    CUDA Version: 11.2     |\n",
            "|-------------------------------+----------------------+----------------------+\n",
            "| GPU  Name        Persistence-M| Bus-Id        Disp.A | Volatile Uncorr. ECC |\n",
            "| Fan  Temp  Perf  Pwr:Usage/Cap|         Memory-Usage | GPU-Util  Compute M. |\n",
            "|                               |                      |               MIG M. |\n",
            "|===============================+======================+======================|\n",
            "|   0  Tesla T4            Off  | 00000000:00:04.0 Off |                    0 |\n",
            "| N/A   64C    P8    11W /  70W |      0MiB / 15109MiB |      0%      Default |\n",
            "|                               |                      |                  N/A |\n",
            "+-------------------------------+----------------------+----------------------+\n",
            "                                                                               \n",
            "+-----------------------------------------------------------------------------+\n",
            "| Processes:                                                                  |\n",
            "|  GPU   GI   CI        PID   Type   Process name                  GPU Memory |\n",
            "|        ID   ID                                                   Usage      |\n",
            "|=============================================================================|\n",
            "|  No running processes found                                                 |\n",
            "+-----------------------------------------------------------------------------+\n"
          ],
          "name": "stdout"
        }
      ]
    },
    {
      "cell_type": "code",
      "metadata": {
        "id": "An_dUuc7rwcl"
      },
      "source": [
        ""
      ],
      "execution_count": null,
      "outputs": []
    },
    {
      "cell_type": "code",
      "metadata": {
        "colab": {
          "base_uri": "https://localhost:8080/",
          "height": 965
        },
        "id": "EhCZ1cHPrzjL",
        "outputId": "b91e6bc2-9295-4c55-be76-260d069b8388"
      },
      "source": [
        "# coding: utf-8\n",
        "\n",
        "# ## EfficientNet\n",
        "# ##### References : \n",
        "# ##### https://learnopencv.com/efficientnet-theory-code/\n",
        "# ##### https://github.com/lukemelas/EfficientNet-PyTorch\n",
        "# ##### https://learnopencv.com/how-to-convert-a-model-from-pytorch-to-tensorrt-and-speed-up-inference/\n",
        "# ##### https://github.com/spmallick/learnopencv/tree/master/PyTorch-ONNX-TensorRT\n",
        "\n",
        "# In[1]:\n",
        "\n",
        "\n",
        "#Import Packages\n",
        "\n",
        "import json\n",
        "from PIL import Image\n",
        "\n",
        "import torch\n",
        "from torchvision import transforms\n",
        "\n",
        "\n",
        "# In[2]:\n",
        "\n",
        "\n",
        "model=torch.hub.load('rwightman/gen-efficientnet-pytorch', 'efficientnet_b2', pretrained=True, scriptable=True)\n",
        "\n",
        "\n",
        "# In[3]:\n",
        "\n",
        "\n",
        "get_ipython().system('wget https://github.com/qubvel/efficientnet/raw/master/misc/panda.jpg')\n",
        "\n",
        "\n",
        "# In[4]:\n",
        "\n",
        "\n",
        "img=Image.open('panda.jpg')\n",
        "\n",
        "\n",
        "# In[5]:\n",
        "\n",
        "\n",
        "get_ipython().system('wget https://raw.githubusercontent.com/lukemelas/EfficientNet-PyTorch/master/examples/simple/labels_map.txt')\n",
        "\n",
        "\n",
        "# In[6]:\n",
        "\n",
        "\n",
        "labels_map=json.load(open('labels_map.txt'))\n",
        "labels_map=[labels_map[str(i)] for i in range(1000)]\n",
        "\n",
        "\n",
        "# In[7]:\n",
        "\n",
        "\n",
        "image_size=224\n",
        "tfms=transforms.Compose([transforms.Resize(image_size),\n",
        "                         transforms.CenterCrop(image_size),\n",
        "                         transforms.ToTensor(),\n",
        "                         transforms.Normalize([0.485, 0.456, 0.406], [0.229, 0.224, 0.225])])\n",
        "\n",
        "\n",
        "# In[8]:\n",
        "\n",
        "\n",
        "img=tfms(img).unsqueeze(0)\n",
        "\n",
        "model.eval()\n",
        "with torch.no_grad():\n",
        "    logits=model(img)\n",
        "preds=torch.topk(logits,k=5).indices.squeeze(0).tolist()\n",
        "\n",
        "\n",
        "# In[9]:\n",
        "\n",
        "\n",
        "for idx in preds:\n",
        "    label=labels_map[idx]\n",
        "    prob=torch.softmax(logits,dim=1)[0,idx].item()\n",
        "    print('{:<75} ({:.2f}%)'.format(label, prob*100))\n",
        "\n",
        "\n",
        "# In[ ]:\n",
        "\n",
        "\n",
        "\n",
        "\n",
        "# In[49]:\n",
        "\n",
        "\n",
        "#from torch2trt import torch2trt\n",
        "\n",
        "\n",
        "\n",
        "main()    \n",
        "    \n"
      ],
      "execution_count": 2,
      "outputs": [
        {
          "output_type": "stream",
          "text": [
            "Downloading: \"https://github.com/rwightman/gen-efficientnet-pytorch/archive/master.zip\" to /root/.cache/torch/hub/master.zip\n",
            "Downloading: \"https://github.com/rwightman/pytorch-image-models/releases/download/v0.1-weights/efficientnet_b2_ra-bcdf34b7.pth\" to /root/.cache/torch/hub/checkpoints/efficientnet_b2_ra-bcdf34b7.pth\n"
          ],
          "name": "stderr"
        },
        {
          "output_type": "stream",
          "text": [
            "--2021-04-03 08:28:58--  https://github.com/qubvel/efficientnet/raw/master/misc/panda.jpg\n",
            "Resolving github.com (github.com)... 192.30.255.113\n",
            "Connecting to github.com (github.com)|192.30.255.113|:443... connected.\n",
            "HTTP request sent, awaiting response... 302 Found\n",
            "Location: https://raw.githubusercontent.com/qubvel/efficientnet/master/misc/panda.jpg [following]\n",
            "--2021-04-03 08:28:58--  https://raw.githubusercontent.com/qubvel/efficientnet/master/misc/panda.jpg\n",
            "Resolving raw.githubusercontent.com (raw.githubusercontent.com)... 185.199.110.133, 185.199.111.133, 185.199.108.133, ...\n",
            "Connecting to raw.githubusercontent.com (raw.githubusercontent.com)|185.199.110.133|:443... connected.\n",
            "HTTP request sent, awaiting response... 200 OK\n",
            "Length: 116068 (113K) [image/jpeg]\n",
            "Saving to: ‘panda.jpg’\n",
            "\n",
            "panda.jpg           100%[===================>] 113.35K  --.-KB/s    in 0.01s   \n",
            "\n",
            "2021-04-03 08:28:59 (7.93 MB/s) - ‘panda.jpg’ saved [116068/116068]\n",
            "\n",
            "--2021-04-03 08:28:59--  https://raw.githubusercontent.com/lukemelas/EfficientNet-PyTorch/master/examples/simple/labels_map.txt\n",
            "Resolving raw.githubusercontent.com (raw.githubusercontent.com)... 185.199.110.133, 185.199.111.133, 185.199.109.133, ...\n",
            "Connecting to raw.githubusercontent.com (raw.githubusercontent.com)|185.199.110.133|:443... connected.\n",
            "HTTP request sent, awaiting response... 200 OK\n",
            "Length: 31565 (31K) [text/plain]\n",
            "Saving to: ‘labels_map.txt’\n",
            "\n",
            "labels_map.txt      100%[===================>]  30.83K  --.-KB/s    in 0.002s  \n",
            "\n",
            "2021-04-03 08:28:59 (19.9 MB/s) - ‘labels_map.txt’ saved [31565/31565]\n",
            "\n",
            "giant panda, panda, panda bear, coon bear, Ailuropoda melanoleuca           (95.45%)\n",
            "lesser panda, red panda, panda, bear cat, cat bear, Ailurus fulgens         (0.09%)\n",
            "ice bear, polar bear, Ursus Maritimus, Thalarctos maritimus                 (0.06%)\n",
            "earthstar                                                                   (0.05%)\n",
            "badger                                                                      (0.04%)\n"
          ],
          "name": "stdout"
        },
        {
          "output_type": "error",
          "ename": "ModuleNotFoundError",
          "evalue": "ignored",
          "traceback": [
            "\u001b[0;31m---------------------------------------------------------------------------\u001b[0m",
            "\u001b[0;31mModuleNotFoundError\u001b[0m                       Traceback (most recent call last)",
            "\u001b[0;32m<ipython-input-2-63d9d63e4af1>\u001b[0m in \u001b[0;36m<module>\u001b[0;34m()\u001b[0m\n\u001b[1;32m     95\u001b[0m \u001b[0;34m\u001b[0m\u001b[0m\n\u001b[1;32m     96\u001b[0m \u001b[0;34m\u001b[0m\u001b[0m\n\u001b[0;32m---> 97\u001b[0;31m \u001b[0;32mimport\u001b[0m \u001b[0monnx\u001b[0m\u001b[0;34m\u001b[0m\u001b[0;34m\u001b[0m\u001b[0m\n\u001b[0m\u001b[1;32m     98\u001b[0m \u001b[0monnx_model\u001b[0m\u001b[0;34m=\u001b[0m\u001b[0monnx\u001b[0m\u001b[0;34m.\u001b[0m\u001b[0mload\u001b[0m\u001b[0;34m(\u001b[0m\u001b[0mONNX_PATH\u001b[0m\u001b[0;34m)\u001b[0m\u001b[0;34m\u001b[0m\u001b[0;34m\u001b[0m\u001b[0m\n\u001b[1;32m     99\u001b[0m \u001b[0monnx\u001b[0m\u001b[0;34m.\u001b[0m\u001b[0mchecker\u001b[0m\u001b[0;34m.\u001b[0m\u001b[0mcheck_model\u001b[0m\u001b[0;34m(\u001b[0m\u001b[0monnx_model\u001b[0m\u001b[0;34m)\u001b[0m\u001b[0;34m\u001b[0m\u001b[0;34m\u001b[0m\u001b[0m\n",
            "\u001b[0;31mModuleNotFoundError\u001b[0m: No module named 'onnx'",
            "",
            "\u001b[0;31m---------------------------------------------------------------------------\u001b[0;32m\nNOTE: If your import is failing due to a missing package, you can\nmanually install dependencies using either !pip or !apt.\n\nTo view examples of installing some common dependencies, click the\n\"Open Examples\" button below.\n\u001b[0;31m---------------------------------------------------------------------------\u001b[0m\n"
          ]
        }
      ]
    },
    {
      "cell_type": "code",
      "metadata": {
        "colab": {
          "base_uri": "https://localhost:8080/"
        },
        "id": "G9XWcBqU3Uzb",
        "outputId": "737f3cc9-d799-4193-e160-58a374d1a740"
      },
      "source": [
        "!python -m pip install onnx onnxruntime "
      ],
      "execution_count": 4,
      "outputs": [
        {
          "output_type": "stream",
          "text": [
            "Collecting onnx\n",
            "\u001b[?25l  Downloading https://files.pythonhosted.org/packages/38/57/65f48111f823df02da3e391b0b1aaadaf9972f8aa68ab3a41f46d59f57fe/onnx-1.8.1-cp37-cp37m-manylinux2010_x86_64.whl (14.5MB)\n",
            "\u001b[K     |████████████████████████████████| 14.5MB 189kB/s \n",
            "\u001b[?25hCollecting onnxruntime\n",
            "\u001b[?25l  Downloading https://files.pythonhosted.org/packages/0c/f0/666d6e3ceaa276a54e728f9972732e058544cbb6a3e1a778a8d6f87132c1/onnxruntime-1.7.0-cp37-cp37m-manylinux2014_x86_64.whl (4.1MB)\n",
            "\u001b[K     |████████████████████████████████| 4.1MB 52.0MB/s \n",
            "\u001b[?25hRequirement already satisfied: six in /usr/local/lib/python3.7/dist-packages (from onnx) (1.15.0)\n",
            "Requirement already satisfied: typing-extensions>=3.6.2.1 in /usr/local/lib/python3.7/dist-packages (from onnx) (3.7.4.3)\n",
            "Requirement already satisfied: numpy>=1.16.6 in /usr/local/lib/python3.7/dist-packages (from onnx) (1.19.5)\n",
            "Requirement already satisfied: protobuf in /usr/local/lib/python3.7/dist-packages (from onnx) (3.12.4)\n",
            "Requirement already satisfied: setuptools in /usr/local/lib/python3.7/dist-packages (from protobuf->onnx) (54.2.0)\n",
            "Installing collected packages: onnx, onnxruntime\n",
            "Successfully installed onnx-1.8.1 onnxruntime-1.7.0\n"
          ],
          "name": "stdout"
        }
      ]
    },
    {
      "cell_type": "code",
      "metadata": {
        "colab": {
          "base_uri": "https://localhost:8080/",
          "height": 367
        },
        "id": "LKGqR_zP2qfi",
        "outputId": "a1d15f40-f434-4e79-f3d8-12c86508c085"
      },
      "source": [
        "\n",
        "#Convert to ONNX format\n",
        "ONNX_PATH='efficientnetb2.onnx'\n",
        "BATCH_SIZE=64\n",
        "dummy_input=torch.randn(BATCH_SIZE,3,224,224)\n",
        "torch.onnx.export(model,dummy_input,ONNX_PATH,input_names=['input'],\n",
        "                 output_names=['output'],export_params=True)\n",
        "\n",
        "\n"
      ],
      "execution_count": 3,
      "outputs": [
        {
          "output_type": "error",
          "ename": "ModuleNotFoundError",
          "evalue": "ignored",
          "traceback": [
            "\u001b[0;31m---------------------------------------------------------------------------\u001b[0m",
            "\u001b[0;31mModuleNotFoundError\u001b[0m                       Traceback (most recent call last)",
            "\u001b[0;32m<ipython-input-3-8b075bb3b764>\u001b[0m in \u001b[0;36m<module>\u001b[0;34m()\u001b[0m\n\u001b[1;32m     11\u001b[0m \u001b[0;34m\u001b[0m\u001b[0m\n\u001b[1;32m     12\u001b[0m \u001b[0;34m\u001b[0m\u001b[0m\n\u001b[0;32m---> 13\u001b[0;31m \u001b[0;32mimport\u001b[0m \u001b[0monnx\u001b[0m\u001b[0;34m\u001b[0m\u001b[0;34m\u001b[0m\u001b[0m\n\u001b[0m\u001b[1;32m     14\u001b[0m \u001b[0monnx_model\u001b[0m\u001b[0;34m=\u001b[0m\u001b[0monnx\u001b[0m\u001b[0;34m.\u001b[0m\u001b[0mload\u001b[0m\u001b[0;34m(\u001b[0m\u001b[0mONNX_PATH\u001b[0m\u001b[0;34m)\u001b[0m\u001b[0;34m\u001b[0m\u001b[0;34m\u001b[0m\u001b[0m\n\u001b[1;32m     15\u001b[0m \u001b[0monnx\u001b[0m\u001b[0;34m.\u001b[0m\u001b[0mchecker\u001b[0m\u001b[0;34m.\u001b[0m\u001b[0mcheck_model\u001b[0m\u001b[0;34m(\u001b[0m\u001b[0monnx_model\u001b[0m\u001b[0;34m)\u001b[0m\u001b[0;34m\u001b[0m\u001b[0;34m\u001b[0m\u001b[0m\n",
            "\u001b[0;31mModuleNotFoundError\u001b[0m: No module named 'onnx'",
            "",
            "\u001b[0;31m---------------------------------------------------------------------------\u001b[0;32m\nNOTE: If your import is failing due to a missing package, you can\nmanually install dependencies using either !pip or !apt.\n\nTo view examples of installing some common dependencies, click the\n\"Open Examples\" button below.\n\u001b[0;31m---------------------------------------------------------------------------\u001b[0m\n"
          ]
        }
      ]
    },
    {
      "cell_type": "code",
      "metadata": {
        "id": "2IsgXngt3Z3p"
      },
      "source": [
        "# In[11]:\n",
        "\n",
        "\n",
        "import onnx\n",
        "onnx_model=onnx.load(ONNX_PATH)\n",
        "onnx.checker.check_model(onnx_model)"
      ],
      "execution_count": 6,
      "outputs": []
    },
    {
      "cell_type": "code",
      "metadata": {
        "id": "FAo52on16Jfp"
      },
      "source": [
        ""
      ],
      "execution_count": null,
      "outputs": []
    },
    {
      "cell_type": "code",
      "metadata": {
        "colab": {
          "base_uri": "https://localhost:8080/"
        },
        "id": "utO-MsQv3sWU",
        "outputId": "5c5cef5b-f63a-46a1-dcf9-7b65d0b509f6"
      },
      "source": [
        "#!sudo apt-get install python-pycuda\n",
        "!pip install pycuda\n"
      ],
      "execution_count": 13,
      "outputs": [
        {
          "output_type": "stream",
          "text": [
            "Collecting pycuda\n",
            "\u001b[?25l  Downloading https://files.pythonhosted.org/packages/46/61/47d3235a4c13eec5a5f03594ddb268f4858734e02980afbcd806e6242fa5/pycuda-2020.1.tar.gz (1.6MB)\n",
            "\u001b[K     |████████████████████████████████| 1.6MB 10.5MB/s \n",
            "\u001b[?25hCollecting pytools>=2011.2\n",
            "\u001b[?25l  Downloading https://files.pythonhosted.org/packages/94/39/48361ee409999c9133aad3668029cc025b0aba99b4e55426909b72234ce0/pytools-2021.2.2.tar.gz (62kB)\n",
            "\u001b[K     |████████████████████████████████| 71kB 9.3MB/s \n",
            "\u001b[?25hRequirement already satisfied: decorator>=3.2.0 in /usr/local/lib/python3.7/dist-packages (from pycuda) (4.4.2)\n",
            "Requirement already satisfied: appdirs>=1.4.0 in /usr/local/lib/python3.7/dist-packages (from pycuda) (1.4.4)\n",
            "Collecting mako\n",
            "\u001b[?25l  Downloading https://files.pythonhosted.org/packages/f3/54/dbc07fbb20865d3b78fdb7cf7fa713e2cba4f87f71100074ef2dc9f9d1f7/Mako-1.1.4-py2.py3-none-any.whl (75kB)\n",
            "\u001b[K     |████████████████████████████████| 81kB 11.0MB/s \n",
            "\u001b[?25hRequirement already satisfied: numpy>=1.6.0 in /usr/local/lib/python3.7/dist-packages (from pytools>=2011.2->pycuda) (1.19.5)\n",
            "Requirement already satisfied: MarkupSafe>=0.9.2 in /usr/local/lib/python3.7/dist-packages (from mako->pycuda) (1.1.1)\n",
            "Building wheels for collected packages: pycuda, pytools\n",
            "  Building wheel for pycuda (setup.py) ... \u001b[?25l\u001b[?25hdone\n",
            "  Created wheel for pycuda: filename=pycuda-2020.1-cp37-cp37m-linux_x86_64.whl size=620850 sha256=e4dd5be9aebde7c05f17216726a5844c44f04322736a2e1d42cff7fc7ebf2ff7\n",
            "  Stored in directory: /root/.cache/pip/wheels/8f/78/d1/5bb826f81d9d490297a348d818ff3ee6dd6f2075b06dde6ea0\n",
            "  Building wheel for pytools (setup.py) ... \u001b[?25l\u001b[?25hdone\n",
            "  Created wheel for pytools: filename=pytools-2021.2.2-py2.py3-none-any.whl size=60166 sha256=1597dbedc85fa5b1c1e544bdf4a09c0638ce1c7d24ac66d4ccaeb6751d0bd749\n",
            "  Stored in directory: /root/.cache/pip/wheels/a2/71/a4/2c1a223ad52e28a878053c37dc9d59a58a749eaa920ef00231\n",
            "Successfully built pycuda pytools\n",
            "Installing collected packages: pytools, mako, pycuda\n",
            "Successfully installed mako-1.1.4 pycuda-2020.1 pytools-2021.2.2\n"
          ],
          "name": "stdout"
        }
      ]
    },
    {
      "cell_type": "code",
      "metadata": {
        "colab": {
          "base_uri": "https://localhost:8080/",
          "height": 367
        },
        "id": "icB_Gc3p2rYc",
        "outputId": "c659c29c-c727-4228-ba87-024ce45429fe"
      },
      "source": [
        "# In[12]:\n",
        "\n",
        "\n",
        "import pycuda.driver as cuda\n",
        "import pycuda.autoinit\n",
        "import numpy as np\n",
        "\n",
        "\n",
        "# In[13]:\n",
        "\n",
        "\n",
        "import tensorrt as trt\n",
        "\n",
        "\n",
        "# In[14]:\n",
        "\n",
        "\n",
        "TRT_LOGGER=trt.Logger()\n",
        "\n",
        "\n",
        "# In[23]:\n",
        "\n",
        "\n",
        "def build_engine(onnx_file_path):\n",
        "    builder=trt.Builder(TRT_LOGGER)\n",
        "    network=builder.create_network()\n",
        "    parser=trt.OnnxParser(network,TRT_LOGGER)\n",
        "    \n",
        "    builder.max_workspace_size=1<<20\n",
        "    builder.max_batch_size=1\n",
        "    if builder.platform_has_fast_fp16:\n",
        "        builder.fp16_mode=True\n",
        "    \n",
        "    with open(onnx_file_path,'rb') as model:\n",
        "        parser.parse(model.read())\n",
        "    \n",
        "    engine=builder.build_cuda_engine(network)\n",
        "    #context=engine.create_execution_context()\n",
        "    \n",
        "    return engine#,context\n",
        "\n",
        "\n",
        "# In[24]:\n",
        "\n",
        "\n",
        "def main():\n",
        "    #engine,context=build_engine(ONNX_PATH)\n",
        "    engine=build_engine(ONNX_PATH)\n",
        "    for binding in engine:\n",
        "        if engine.binding_is_input(binding):\n",
        "            input_shape=engine.get_binding_shape(binding)\n",
        "            input_size=trt.volume(input_shape)*engine.max_batch_size*np.dtype(np.float32).itemsize\n",
        "            device_input=cuda.mem_alloc(input_size)\n",
        "        else:\n",
        "            output_shape=engine.get_binding_shape(binding)\n",
        "            host_output=cuda.pagelocked_empty(trt.volume(output_shape)* engine.max_batch_size, dtype=np.float)\n",
        "            device_output=cuda_mem_alloc(host_output.nbytes)\n",
        "            \n",
        "    stream=cuda.Stream()\n",
        "    \n",
        "    host_input=np.array(img)\n",
        "    cuda.memcpy_htod_async(device_input,device_output,stream)\n",
        "    \n",
        "    stream.synchronize()\n",
        "    \n",
        "    output_data=torch.Tensor(host_output).reshape(engine.max_batch_size, output_shape[0])\n",
        "\n",
        "    "
      ],
      "execution_count": 14,
      "outputs": [
        {
          "output_type": "error",
          "ename": "ModuleNotFoundError",
          "evalue": "ignored",
          "traceback": [
            "\u001b[0;31m---------------------------------------------------------------------------\u001b[0m",
            "\u001b[0;31mModuleNotFoundError\u001b[0m                       Traceback (most recent call last)",
            "\u001b[0;32m<ipython-input-14-b3822b9d8c32>\u001b[0m in \u001b[0;36m<module>\u001b[0;34m()\u001b[0m\n\u001b[1;32m     10\u001b[0m \u001b[0;34m\u001b[0m\u001b[0m\n\u001b[1;32m     11\u001b[0m \u001b[0;34m\u001b[0m\u001b[0m\n\u001b[0;32m---> 12\u001b[0;31m \u001b[0;32mimport\u001b[0m \u001b[0mtensorrt\u001b[0m \u001b[0;32mas\u001b[0m \u001b[0mtrt\u001b[0m\u001b[0;34m\u001b[0m\u001b[0;34m\u001b[0m\u001b[0m\n\u001b[0m\u001b[1;32m     13\u001b[0m \u001b[0;34m\u001b[0m\u001b[0m\n\u001b[1;32m     14\u001b[0m \u001b[0;34m\u001b[0m\u001b[0m\n",
            "\u001b[0;31mModuleNotFoundError\u001b[0m: No module named 'tensorrt'",
            "",
            "\u001b[0;31m---------------------------------------------------------------------------\u001b[0;32m\nNOTE: If your import is failing due to a missing package, you can\nmanually install dependencies using either !pip or !apt.\n\nTo view examples of installing some common dependencies, click the\n\"Open Examples\" button below.\n\u001b[0;31m---------------------------------------------------------------------------\u001b[0m\n"
          ]
        }
      ]
    },
    {
      "cell_type": "code",
      "metadata": {
        "id": "BARp5qBS2yrL"
      },
      "source": [
        "main()"
      ],
      "execution_count": null,
      "outputs": []
    }
  ]
}